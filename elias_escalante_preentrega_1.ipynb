{
  "nbformat": 4,
  "nbformat_minor": 0,
  "metadata": {
    "colab": {
      "provenance": []
    },
    "kernelspec": {
      "name": "python3",
      "display_name": "Python 3"
    },
    "language_info": {
      "name": "python"
    }
  },
  "cells": [
    {
      "cell_type": "code",
      "execution_count": 2,
      "metadata": {
        "id": "XaUI_ud1S_EE"
      },
      "outputs": [],
      "source": [
        "def registro(base_datos):\n",
        "  #registra el usuario y su contraseña dentro de un diccionario que paso por parametro.\n",
        "  usuario = input(\"\\tIngrese el nombre de usuario... \")\n",
        "  contraseña = input(\"\\tIngrese su contraseña... \")\n",
        "  base_datos.update({usuario: contraseña})"
      ]
    },
    {
      "cell_type": "code",
      "source": [
        "def leer_data(base_datos):\n",
        "  # creo una funcion para imprimir en pantalla el contenido de mi diccionario.\n",
        "  for clave, valor in base_datos.items():\n",
        "    print(\"la info almacenada en la base de datos es: \")\n",
        "    print(f\"{clave}  -  {valor}\\n\")"
      ],
      "metadata": {
        "id": "PGnUV-rDfypx"
      },
      "execution_count": 1,
      "outputs": []
    },
    {
      "cell_type": "code",
      "source": [
        "#monto el drive para poder guardar el txt.\n",
        "from google.colab import drive\n",
        "drive.mount('/drive/')\n",
        "\n",
        "def guardar_archivo(base_datos):\n",
        "  #la funcion guarda en un txt la info almacenada en mi diccionario en el drive.\n",
        "  f = open( \"/drive/MyDrive/base_usuarios.txt\", \"w\")\n",
        "  f.write(f\"base de usuarios y contraseñas \\n{base_datos}\")\n",
        "  f.close()"
      ],
      "metadata": {
        "colab": {
          "base_uri": "https://localhost:8080/"
        },
        "id": "HlK_CTGMg_AA",
        "outputId": "d84f2a1a-835c-4c35-c473-0307e7626352"
      },
      "execution_count": null,
      "outputs": [
        {
          "output_type": "stream",
          "name": "stdout",
          "text": [
            "Drive already mounted at /drive/; to attempt to forcibly remount, call drive.mount(\"/drive/\", force_remount=True).\n"
          ]
        }
      ]
    },
    {
      "cell_type": "code",
      "source": [
        "def login(base_datos):\n",
        "  #permite logearse a al \"sistema\" si la info ingresada esta en la base de datos, en caso contrario arroja error.\n",
        "  usuario = input(\"ingresa tu usuario: \")\n",
        "  if usuario in base_datos:\n",
        "    contrasenia = input(\"ingrese su contraseña: \")\n",
        "    if contrasenia == base_datos[usuario]:\n",
        "      print(f\"has iniciado sesion...bienvenido {usuario}\")\n",
        "    else:\n",
        "      print(\"la contraseña ingresada es incorrecta...\")\n",
        "  else:\n",
        "    print(f\"- el usuario - {usuario} - no se encuentra registrado...\")"
      ],
      "metadata": {
        "id": "QFh7sE3NtsJs"
      },
      "execution_count": null,
      "outputs": []
    },
    {
      "cell_type": "code",
      "source": [
        "# creo un diccionario vacio para almacenar los diferentes usuarios y sus respectivas contraseñas.\n",
        "BD = {}"
      ],
      "metadata": {
        "id": "-vU_x2sZY4Rz"
      },
      "execution_count": 4,
      "outputs": []
    },
    {
      "cell_type": "code",
      "source": [
        "# ejecuto la primera funcion para registrar el usuario y la contraseña\n",
        "registro(BD)"
      ],
      "metadata": {
        "colab": {
          "base_uri": "https://localhost:8080/"
        },
        "id": "2z2uMBDma95Y",
        "outputId": "c81cf886-9356-4eeb-9153-fede5c383c22"
      },
      "execution_count": 5,
      "outputs": [
        {
          "name": "stdout",
          "output_type": "stream",
          "text": [
            "\tIngrese el nombre de usuario... elias\n",
            "\tIngrese su contraseña... ninja1\n"
          ]
        }
      ]
    },
    {
      "cell_type": "code",
      "source": [
        "#ejecuto la funcion para leer la data del BD...que retorna la info de la base\n",
        "leer_data(BD)\n"
      ],
      "metadata": {
        "id": "eNeAjZIxbcHh",
        "outputId": "406f3478-16f6-43b3-a98a-bfb4193d9072",
        "colab": {
          "base_uri": "https://localhost:8080/"
        }
      },
      "execution_count": 6,
      "outputs": [
        {
          "output_type": "stream",
          "name": "stdout",
          "text": [
            "la info almacenada en la base de datos es: \n",
            "elias  -  ninja1\n",
            "\n"
          ]
        }
      ]
    },
    {
      "cell_type": "code",
      "source": [
        "#ejecuto la funcion que me guarda en un txt la base guardada hasta el momento\n",
        "guardar_archivo(BD)"
      ],
      "metadata": {
        "id": "5kNkbJZHkrTu"
      },
      "execution_count": null,
      "outputs": []
    },
    {
      "cell_type": "code",
      "source": [
        "#Ejecuto la funcion para logearme...\n",
        "login(BD)"
      ],
      "metadata": {
        "id": "0hwr9BqIwOsj",
        "colab": {
          "base_uri": "https://localhost:8080/"
        },
        "outputId": "26a53f9f-5e24-4acf-c2ed-12f58a035f82"
      },
      "execution_count": null,
      "outputs": [
        {
          "output_type": "stream",
          "name": "stdout",
          "text": [
            "ingresa tu usuario: ninja\n",
            "-ERROR- el usuario - ninja - no se encuentra registrado...\n"
          ]
        }
      ]
    }
  ]
}